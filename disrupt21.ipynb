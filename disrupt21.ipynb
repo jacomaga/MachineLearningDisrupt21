{
  "nbformat": 4,
  "nbformat_minor": 0,
  "metadata": {
    "colab": {
      "name": "disrupt21.ipynb",
      "provenance": []
    },
    "kernelspec": {
      "name": "python3",
      "display_name": "Python 3"
    }
  },
  "cells": [
    {
      "cell_type": "markdown",
      "metadata": {
        "id": "LbiKcb2UY7DR"
      },
      "source": [
        "# **Modelo de classificação de viajante temporal**\n",
        "\n",
        "---\n",
        "\n",
        "\n",
        "\n",
        "\n",
        "\n"
      ]
    },
    {
      "cell_type": "markdown",
      "metadata": {
        "id": "dkWy1fOJFbfT"
      },
      "source": [
        "**Abertura**\n",
        "\n",
        "\n",
        "Nesse disrupt21, nossos coordenadores trouxeram o desafio de criar uma ferramenta  de uso inspirada no filme *Back to the Future*. Após ver esse filme, você deve ter se perguntado se em uma linha temporal futura alguém já inventou uma máquina do tempo e se há um *McFly*, um *Dr. Emmett* ou até mesmo um *Biff* entre nós e é nisso que iremos focar. Conforme o tempo passa a cultura se transforma, gírias novas surgem, enfim, tudo muda! Pensando nesses contrastes culturais, nós pensamos em analisar comportamentos e situações de alguns sujeitos para pegar no pulo do gato esses viajantes temporais que talvez estejam bagunçando nossa realidade - só pode ter algo, porque esse 2020 não parece coisa normal!\n",
        "\n"
      ]
    },
    {
      "cell_type": "markdown",
      "metadata": {
        "id": "DKR2cEj2Fq9K"
      },
      "source": [
        "**Legenda base de dados**\n",
        "\n",
        "Como dito anteriormente, nós decidimos criar uma base de dados focando nas falhas dos viajantes temporais, segue uma breve legenda da nossa base de dados:\n",
        "\n",
        "*   gir - são gírias estranhas ditas pelo suposto viajante;\n",
        "*   vest - vestimentas incomuns\n",
        "*   intim - proximidade com o *Dr. Emmett Brown*\n",
        "*   aparepent - verifica se o sujeito apareceu repentinamente\n",
        "*   fatfut - conhecimento sobre fatos futuros\n",
        "*   sumrep -  caso o sujeito tenha sumido repentinamente\n",
        "*   semresid - caso o sujeito não tenha residência\n",
        "*   riqapost - caso o sujeito tenha enriquecido através de apostas/especulação\n",
        "*   eventest - caso o sujeito se fez presente em eventos incomuns \n",
        "*   viajante_temporal - diz ou não se a instância pertence ou não a um viajante temporal \n",
        "\n",
        "Nós iremos usar essas colunas para classificar entre viajante temporal ou não!"
      ]
    },
    {
      "cell_type": "markdown",
      "metadata": {
        "id": "9ngh8WW3E8Lg"
      },
      "source": [
        "# Imports"
      ]
    },
    {
      "cell_type": "code",
      "metadata": {
        "id": "s9rluWi3Y45j"
      },
      "source": [
        "import pandas as pd \n",
        "from sklearn.model_selection import train_test_split\n",
        "from sklearn.ensemble import ExtraTreesClassifier\n"
      ],
      "execution_count": null,
      "outputs": []
    },
    {
      "cell_type": "markdown",
      "metadata": {
        "id": "gn0X-RcXFBku"
      },
      "source": [
        "# Base de dados"
      ]
    },
    {
      "cell_type": "code",
      "metadata": {
        "id": "7_gmHDUpFE27",
        "colab": {
          "base_uri": "https://localhost:8080/",
          "height": 204
        },
        "outputId": "a88fd9f8-2edc-4d26-9ec0-d28d138cea5d"
      },
      "source": [
        "data = pd.read_csv(\"https://raw.githubusercontent.com/jacomaga/MachineLearningDisrupt21/main/dados.csv\")\n",
        "\n",
        "data.head()\n"
      ],
      "execution_count": null,
      "outputs": [
        {
          "output_type": "execute_result",
          "data": {
            "text/html": [
              "<div>\n",
              "<style scoped>\n",
              "    .dataframe tbody tr th:only-of-type {\n",
              "        vertical-align: middle;\n",
              "    }\n",
              "\n",
              "    .dataframe tbody tr th {\n",
              "        vertical-align: top;\n",
              "    }\n",
              "\n",
              "    .dataframe thead th {\n",
              "        text-align: right;\n",
              "    }\n",
              "</style>\n",
              "<table border=\"1\" class=\"dataframe\">\n",
              "  <thead>\n",
              "    <tr style=\"text-align: right;\">\n",
              "      <th></th>\n",
              "      <th>gir</th>\n",
              "      <th>vest</th>\n",
              "      <th>intim</th>\n",
              "      <th>aparepent</th>\n",
              "      <th>fatfut</th>\n",
              "      <th>sumrep</th>\n",
              "      <th>semresid</th>\n",
              "      <th>riqapost</th>\n",
              "      <th>eventest</th>\n",
              "      <th>viajante_temporal</th>\n",
              "    </tr>\n",
              "  </thead>\n",
              "  <tbody>\n",
              "    <tr>\n",
              "      <th>0</th>\n",
              "      <td>1</td>\n",
              "      <td>1</td>\n",
              "      <td>9.5</td>\n",
              "      <td>1</td>\n",
              "      <td>1</td>\n",
              "      <td>1</td>\n",
              "      <td>1</td>\n",
              "      <td>0</td>\n",
              "      <td>1</td>\n",
              "      <td>1</td>\n",
              "    </tr>\n",
              "    <tr>\n",
              "      <th>1</th>\n",
              "      <td>1</td>\n",
              "      <td>1</td>\n",
              "      <td>0.0</td>\n",
              "      <td>1</td>\n",
              "      <td>1</td>\n",
              "      <td>1</td>\n",
              "      <td>1</td>\n",
              "      <td>1</td>\n",
              "      <td>1</td>\n",
              "      <td>1</td>\n",
              "    </tr>\n",
              "    <tr>\n",
              "      <th>2</th>\n",
              "      <td>0</td>\n",
              "      <td>1</td>\n",
              "      <td>5.0</td>\n",
              "      <td>1</td>\n",
              "      <td>0</td>\n",
              "      <td>1</td>\n",
              "      <td>1</td>\n",
              "      <td>0</td>\n",
              "      <td>0</td>\n",
              "      <td>0</td>\n",
              "    </tr>\n",
              "    <tr>\n",
              "      <th>3</th>\n",
              "      <td>1</td>\n",
              "      <td>1</td>\n",
              "      <td>6.5</td>\n",
              "      <td>0</td>\n",
              "      <td>0</td>\n",
              "      <td>0</td>\n",
              "      <td>0</td>\n",
              "      <td>0</td>\n",
              "      <td>0</td>\n",
              "      <td>0</td>\n",
              "    </tr>\n",
              "    <tr>\n",
              "      <th>4</th>\n",
              "      <td>1</td>\n",
              "      <td>0</td>\n",
              "      <td>3.6</td>\n",
              "      <td>1</td>\n",
              "      <td>1</td>\n",
              "      <td>0</td>\n",
              "      <td>0</td>\n",
              "      <td>1</td>\n",
              "      <td>0</td>\n",
              "      <td>1</td>\n",
              "    </tr>\n",
              "  </tbody>\n",
              "</table>\n",
              "</div>"
            ],
            "text/plain": [
              "   gir  vest  intim  aparepent  ...  semresid  riqapost  eventest  viajante_temporal\n",
              "0    1     1    9.5          1  ...         1         0         1                  1\n",
              "1    1     1    0.0          1  ...         1         1         1                  1\n",
              "2    0     1    5.0          1  ...         1         0         0                  0\n",
              "3    1     1    6.5          0  ...         0         0         0                  0\n",
              "4    1     0    3.6          1  ...         0         1         0                  1\n",
              "\n",
              "[5 rows x 10 columns]"
            ]
          },
          "metadata": {
            "tags": []
          },
          "execution_count": 6
        }
      ]
    },
    {
      "cell_type": "markdown",
      "metadata": {
        "id": "kLvcXQdX4OKC"
      },
      "source": [
        "# Modelo Demonstrativo"
      ]
    },
    {
      "cell_type": "code",
      "metadata": {
        "colab": {
          "base_uri": "https://localhost:8080/"
        },
        "id": "EUUSTbOh4VY_",
        "outputId": "ab3e08df-1bc1-42e5-cf92-94c880f44ced"
      },
      "source": [
        "\n",
        "#lendo a base de dados\n",
        "data = pd.read_csv(\"https://raw.githubusercontent.com/jacomaga/MachineLearningDisrupt21/main/dados.csv\")\n",
        "\n",
        "data.head()\n",
        "\n",
        "#Separando as variaveis entre preditoras(x) e variavel alvo(y)\n",
        "\n",
        "y = data['viajante_temporal']\n",
        "x = data.drop('viajante_temporal', axis = 1)\n",
        "\n",
        "#Criar os conjuntos de dados para treino e teste\n",
        "\n",
        "x_treino, x_teste, y_treino, y_teste = train_test_split(x, y, test_size = 0.3)\n",
        "\n",
        "#Criação do modelo\n",
        "\n",
        "modelo = ExtraTreesClassifier()\n",
        "modelo.fit(x_treino, y_treino)\n",
        "\n",
        "#Resultados\n",
        "\n",
        "resultado = modelo.score(x_teste, y_teste)\n",
        "print(\"Precisão: \", resultado)\n"
      ],
      "execution_count": null,
      "outputs": [
        {
          "output_type": "stream",
          "text": [
            "Precisão:  0.7333333333333333\n"
          ],
          "name": "stdout"
        }
      ]
    },
    {
      "cell_type": "markdown",
      "metadata": {
        "id": "ZWiiAVHp43sU"
      },
      "source": [
        "# Descrição e motivação\n"
      ]
    },
    {
      "cell_type": "markdown",
      "metadata": {
        "id": "MqvzC9Qt485G"
      },
      "source": [
        "\n",
        "\n",
        "**Escolha do modelo**\n",
        "\n",
        "Usamos o modelo ExtraTreesClassifier que é um algoritmo muito poderoso que trabalha com árvores de decisão, a diferença desse modelo para o forest é que ao escolher as variáveis ​​em uma divisão, as amostras são retiradas de todo o conjunto de treinamento, ao invés de uma amostra de bootstrap do conjunto de treinamento e as divisões são escolhidas de forma completamente aleatória no intervalo de valores na amostra; guardamos esse algoritmo na variável modelo.\n",
        "\n",
        "**Descrição**\n",
        "\n",
        "Usamos o pd.head_csv para ler os dados e guardamos em uma variável chamada \"data\".\n",
        "\n",
        "A variável y guarda o nosso alvo que é a coluna \"viajante_temporal\".\n",
        "\n",
        "A variável x guarda todas as colunas exceto a \"viajante_temporal\", e para isso usamos a função drop para retirá-la.\n",
        "\n",
        "Criamos variáveis de treino e teste e usamos o método \"train_test_split\" que nos permite dividir o dataset em uma porcentagem definida, que foi definida com \"test_size = 0.3\" ou seja usamos 30% para teste e o restante que será 70% para treino.\n",
        "\n",
        "**Aplicação nos dados**\n",
        "\n",
        "Pegamos nossa variável modelo e usamos a função \"fit\" para aplicar o algoritmo nos nossos dados \"x_treino e y_treino\".\n",
        "\n",
        "**Resultados**\n",
        "\n",
        "Agora que o modelo está treinado podemos usar a função \"score\" que ira pegar no conjunto de dados de teste \"x_teste\" e comparar com \"y_teste\" que é a classificação correta. Então o \"score\" vai usar todo o conjunto de dados de teste e vai passar para o nosso algoritmo, como o algoritmo já esta treinado ele ira tentar prever qual a classe de cada uma das amostras de teste e depois ira comparar se está correto ou errado com o \"y_teste\" e depois pedimos que ele imprima o resultado."
      ]
    }
  ]
}